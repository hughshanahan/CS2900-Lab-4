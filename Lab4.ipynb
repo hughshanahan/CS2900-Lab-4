{
 "cells": [
  {
   "cell_type": "markdown",
   "id": "97dbe70f",
   "metadata": {},
   "source": [
    "<div id=\"header\">\n",
    "<h1 class=\"title\">CS2900 :- Topic 4 Lab</h1>\n",
    "<h2 class=\"author\">Hugh Shanahan and Tom Kuipers</h2>\n",
    "</div>"
   ]
  },
  {
   "cell_type": "markdown",
   "id": "f939495c",
   "metadata": {},
   "source": [
    "The learning outcomes of this session are:\n",
    "\n",
    "-   To have an introductory understanding of Singular Value\n",
    "    Decomposition (SVD).\n",
    "\n",
    "-   To understand the use of condition numbers.\n",
    "\n",
    "-   To use SVD to perform least squares.\n",
    "\n",
    "# Set up\n",
    "\n",
    "1. Initialise the the test suite so that you can check and grade your solutions.\n",
    "\n",
    "2. Be sure to import NumPy just as you did in the previous lab sheets."
   ]
  },
  {
   "cell_type": "code",
   "execution_count": null,
   "id": "9fa709be",
   "metadata": {},
   "outputs": [],
   "source": []
  },
  {
   "cell_type": "markdown",
   "id": "7c63cc12",
   "metadata": {},
   "source": [
    "# Moodle quiz\n",
    "\n",
    "You can find the corresponding quiz for this notebook [here](https://moodle.royalholloway.ac.uk/mod/quiz/view.php?id=972869). Please note - make sure you have everything working as you see fit before running it on the moodle quiz. The notebook is a much better environment for testing your code."
   ]
  },
  {
   "cell_type": "code",
   "execution_count": null,
   "id": "442ff268",
   "metadata": {},
   "outputs": [],
   "source": [
    "import numpy as np"
   ]
  },
  {
   "cell_type": "markdown",
   "id": "8bc00420",
   "metadata": {},
   "source": [
    "Adjacency matrices\n",
    "==================\n",
    "\n",
    "If you have not completed the adjacency matrix section in the previous\n",
    "lab, go and do this first now.\n",
    "\n",
    "\n",
    "\n",
    "In topic 4 we introduced the *Diffusion*\n",
    "algorithm, which ranks the importance of nodes depending on how many\n",
    "other nodes link into it. To solve this, we make use of the trick of\n",
    "repeatedly multiplying a vector $\\underline{x}$ by a matrix and updating\n",
    "$\\underline{x}$ with this new vector, until $\\underline{x}$ no longer\n",
    "changes. The key matrix for this is $\\mathbf{P}^{\\intercal}$, referred to as the diffusion matrix, where\n",
    "$$P_{ij} \\;\\; = \\;\\; \\frac{A_{ij}}{\\sum_j A_{ij}} \\;\\; .$$\n",
    "\n",
    "Note that we are calculating $\\mathbf{P}$ in this equation but that we\n",
    "need to use $\\mathbf{P}^{\\intercal}$.\n",
    "\n",
    "As noted in the lecture notes the important steps in the diffusion algorithm are\n",
    "\n",
    "---\n",
    "\n",
    "while $\\delta > \\epsilon$\n",
    "\n",
    "$\\;\\;\\;\\;\\underline{y} \\gets \\mathbf{P}^{\\intercal} \\underline{x}$\n",
    "\n",
    "$\\;\\;\\;\\;\\delta \\gets | \\underline{x} - \\underline{y} |$\n",
    "\n",
    "$\\;\\;\\;\\;\\underline{x} \\gets \\underline{y}$ \n",
    "\n",
    "Return $\\underline{x}$\n",
    "\n",
    "---"
   ]
  },
  {
   "cell_type": "markdown",
   "id": "a56faaa7",
   "metadata": {},
   "source": [
    "## CHECKPOINT 1\n",
    "\n",
    "- **Write a Python function `compDiffusion` which accepts a NumPy matrix `A`.** \n",
    "\n",
    "    - **`compDiffusion` returns the transpose of corresponding diffusion matrix $\\mathbf{R}^{\\intercal}$ for `A`.**\n",
    "    \n",
    "**NOTE: It should check that `A` is a adjacency matrix (i.e. a square matrix with integer entries). If `A` is not an adjacency matrix compDiffusion should return -1.**"
   ]
  },
  {
   "cell_type": "code",
   "execution_count": null,
   "id": "d76deb5b",
   "metadata": {},
   "outputs": [],
   "source": [
    "# Your code here...\n",
    "    \n",
    "            \n"
   ]
  },
  {
   "cell_type": "markdown",
   "id": "739dd4ed",
   "metadata": {},
   "source": [
    "## CHECKPOINT 2\n",
    "\n",
    "**If**\n",
    "\n",
    "$$ A1 = \\begin{pmatrix} 0 & 1 & 0 & 0 & 0 \\\\ 1 & 0 & 1 & 0 & 0 \\\\ 1 & 0 & 0 & 1 & 1 \\\\ 1 & 0 & 0 & 0 & 0 \\\\ 0 & 0 & 0 & 1 & 1 \\end{pmatrix}$$\n",
    "\n",
    "- **Use `compDiffusion` to compute the corresponding transpose of the diffusion matrix for `A1`. Store the value in `D1TComp`.**\n",
    "\n",
    "- **Compute the transpose of diffusion matrix by hand. Create a matrix `D1THand` with that calculation. Explicitly check if `D1THand` and `D1TComp` match using the numpy function `allclose`. For this function set `rtol` to 0.01.**\n",
    "\n",
    "**Note:** You do not have to pass `D1TComp` or the comparison to the moodle quiz. This will be checked for you."
   ]
  },
  {
   "cell_type": "code",
   "execution_count": null,
   "id": "aa0310b5",
   "metadata": {},
   "outputs": [],
   "source": [
    "# Your code here...\n",
    "\n",
    "\n",
    "\n"
   ]
  },
  {
   "cell_type": "markdown",
   "id": "a01f7dab",
   "metadata": {},
   "source": [
    "## CHECKPOINT 3\n",
    "\n",
    "- **Write a function `runDiffusion` that accepts two arguments, a NumPy matrix `A` representing an adjacency matrix  and a floating point number `epsilon` representing a cutoff.**\n",
    "\n",
    "    - **It will return a NumPy vector `x` which are the weights generated by the diffusion algorithm as outlined in the lecture notes.** \n",
    "    \n",
    "**An initial estimate of the `x` should be $1/N$ where $N$ is the numbr of vertices in the graph corresponding to `A`.**\n",
    "**You may find the NumPy command `np.copy` useful.**"
   ]
  },
  {
   "cell_type": "code",
   "execution_count": null,
   "id": "0a86ff88",
   "metadata": {},
   "outputs": [],
   "source": [
    "# Your code here...\n",
    "    \n",
    "        \n",
    "    \n",
    "\n"
   ]
  },
  {
   "cell_type": "markdown",
   "id": "194c1e1f",
   "metadata": {},
   "source": [
    "## CHECKPOINT 4\n",
    "\n",
    "- **Write a function `runPageRank` that accepts three arguments, an NumPy matrix `A` representing an adjacency matrix, and floating point numbers `epsilon` and `c` as defined in the notes.**\n",
    "\n",
    "- **It will return a NumPy vector `x` which are the weights generated by the PageRank algorithm as outlined in the lecture notes.**\n",
    "\n",
    "- **As a reminder here is the algorithm.** \n",
    "\n",
    "---\n",
    "computeRank($P^\\intercal$, $c$,$\\epsilon$)\n",
    "\n",
    "($P^\\intercal$ is an $n \\times n$ matrix)\n",
    "\n",
    "  $\\;\\;\\underline{v} \\leftarrow (1/n,1/n, \\dots, 1/n)^\\intercal$\n",
    "    \n",
    "  $\\;\\; \\underline{x}^{(0)} \\leftarrow \\underline{v}$\n",
    "\n",
    "  $\\;\\; k \\leftarrow 0$\n",
    "    \n",
    "  $\\;\\; \\text{Repeat}$\n",
    "    \n",
    "  $\\;\\;\\;\\; \\underline{y} \\leftarrow c P^\\intercal \\underline{x}^{(k)}$\n",
    "        \n",
    "  $\\;\\;\\;\\; \\gamma \\leftarrow || \\underline{x}^{(k)} || - || \\underline{y} ||$\n",
    "        \n",
    "  $\\;\\;\\;\\; \\underline{x}^{(k+1)} \\leftarrow \\underline{y} + \\gamma \\underline{v}$\n",
    "     \n",
    "  $\\;\\;\\;\\; \\delta \\leftarrow ||  \\underline{x}^{(k+1)}  -  \\underline{x}^{(k)}  ||$\n",
    "        \n",
    "  $\\;\\;\\;\\; k \\leftarrow k + 1$ \n",
    "        \n",
    "  $\\;\\; \\text{Until} \\;\\; \\delta < \\epsilon$\n",
    "    \n",
    "  $\\;\\; \\underline{x} \\leftarrow \\underline{x}^{(k)}$\n",
    "    \n",
    "  $\\;\\; \\text{Return} \\;\\; \\underline{x}$\n",
    "\n",
    "\n",
    "    \n",
    "**As we used in the diffusion algorithm an initial estimate of the `x` should be $1/N$ where $N$ is the number of vertices in the graph.**\n",
    "\n",
    "**NOTE: To compute the L1 norm, you may find  $\\mathtt{numpy.linalg.norm}$ useful (check the Python docs on this).**"
   ]
  },
  {
   "cell_type": "code",
   "execution_count": null,
   "id": "bd3203f0",
   "metadata": {},
   "outputs": [],
   "source": [
    "# Your code here...   \n",
    "    \n"
   ]
  },
  {
   "cell_type": "markdown",
   "id": "d9a4de88",
   "metadata": {},
   "source": [
    "# Singular Value Decomposition (SVD)\n",
    "\n",
    "**NOTE:** Refer to the lecture notes (topic 4) on SVD. \n",
    "\n",
    "Specifically any matrix $\\mathbf{A}$ can be written as $\\mathbf{A} = \\mathbf{U} \\; \\mathbf{D} \\; \\mathbf{V}^{T}$, where\n",
    "\n",
    "$$\\begin{aligned}\n",
    "\\mathbf{A} \\;\\; &\\in& \\;\\; \\mathbb{R} \\;\\; ,\\\\\n",
    "\\mathbf{U} \\;\\; &-& \\;\\; M \\times M \\;\\; , \\\\\n",
    "\\mathbf{V} \\;\\; &-& \\;\\; N \\times N \\;\\; , \\\\\n",
    "\\mathbf{U}, \\; \\mathbf{V} \\;\\; &-& \\;\\; \\text{orthogonal} \\;\\; , \\\\\n",
    "D_{ij} \\;\\; &=& \\;\\; \n",
    "\\left\\{ \n",
    "\\begin{matrix}\n",
    "d_i \\, \\ge \\, 0 \\;\\; \\text{iff} \\;\\; i=j \\\\\n",
    "0 \\;\\; \\text{otherwise}  \n",
    "\\end{matrix}\n",
    "\\right.  \\;\\; .\\end{aligned}$$ \n",
    "\n",
    "SVD can be performed in NumPy using `numpy.linalg.svd`\n",
    "\n",
    "**Observe the following code below**"
   ]
  },
  {
   "cell_type": "code",
   "execution_count": null,
   "id": "0adc98e7",
   "metadata": {},
   "outputs": [],
   "source": [
    "A = np.array([ [ 400.0, -201.0] , [-800.0,401.0] ])"
   ]
  },
  {
   "cell_type": "code",
   "execution_count": null,
   "id": "bb7501af",
   "metadata": {},
   "outputs": [],
   "source": [
    "U,D,Vt = np.linalg.svd(A)"
   ]
  },
  {
   "cell_type": "code",
   "execution_count": null,
   "id": "3ea614e5",
   "metadata": {},
   "outputs": [],
   "source": [
    "print(f\"U = {U}\")"
   ]
  },
  {
   "cell_type": "code",
   "execution_count": null,
   "id": "45a5e677",
   "metadata": {},
   "outputs": [],
   "source": [
    "print(f\"D = {D}\")"
   ]
  },
  {
   "cell_type": "code",
   "execution_count": null,
   "id": "9fb12eb8",
   "metadata": {},
   "outputs": [],
   "source": [
    "print(f\"Vt = {Vt}\")"
   ]
  },
  {
   "cell_type": "markdown",
   "id": "a0a0916d",
   "metadata": {},
   "source": [
    "## CHECKPOINT 5\n",
    "\n",
    "**What are the dimensions of `U`, `D` and `Vt`?**\n",
    "\n",
    "*Remember that `numpy.linalg.svd` returns `D` as a vector but in the notes **D** is a matrix.*\n",
    "\n",
    "- **Define a function `checkDims` that takes a single NumPy matrix, $\\mathbf{A}$ which returns a tuple with dimensions of the SVD matrices for $\\mathbf{A}$.**\n",
    "    - **Giving $\\mathbf{A}$ defined above, the function should return `(# rows of U, # columns of U, # rows of D, # columns of D, # rows of Vt, # columns of Vt)`**\n",
    "\n",
    "- **Define a list `Asvd` which contains the following matrices below:**\n",
    "\n",
    "$$\\text{Asvd[0]} = \\begin{pmatrix} 1.0 & 2.0 & 3.0 \\\\ -1.0 & 3.0 & 2.0 \\end{pmatrix}$$\n",
    "\n",
    "$$\\text{Asvd[1]} =\n",
    "\\begin{pmatrix}\n",
    "1.0 & 2.0 & 3.0 & 4.0 \\\\\n",
    "-1.0 & 3.0 & 2.0 & 3.0 \n",
    "\\end{pmatrix}$$\n",
    "\n",
    "$$\\text{Asvd[2]} =\n",
    "\\begin{pmatrix}\n",
    "1.0 & 2.0 \\\\\n",
    "-1.0 & 3.0 \\\\\n",
    "3.0 & 1.0 \n",
    "\\end{pmatrix}$$\n",
    "\n",
    "$$\\text{Asvd[3]} =\n",
    "\\begin{pmatrix}\n",
    "1.0 & 2.0 \\\\\n",
    "-1.0 & 3.0 \\\\\n",
    "3.0 & 1.0 \\\\\n",
    "4.0 & 2.0 \n",
    "\\end{pmatrix}$$"
   ]
  },
  {
   "cell_type": "markdown",
   "id": "99b77b16",
   "metadata": {},
   "source": [
    "- **For each entry in `Asvd` ask yourself what should checkDims produce and then compare it with checkDims. Does it give you the expected output?** \n",
    "\n",
    "**NOTE 1:** `#` means *'number of'*\n",
    "\n",
    "**NOTE 2:** The calculation of the number of rows and columns of `D` is not trivial!\n",
    "\n",
    "**Note 3:** You only have to pass your definition for `checkDims` and `Asvd` to the moodle quiz."
   ]
  },
  {
   "cell_type": "code",
   "execution_count": null,
   "id": "874490f8",
   "metadata": {},
   "outputs": [],
   "source": [
    "# Your code here...\n"
   ]
  },
  {
   "cell_type": "markdown",
   "id": "a941bc0c",
   "metadata": {},
   "source": [
    "# Condition numbers\n",
    "\n",
    "The *condition number* of a matrix is the ratio of the largest to smallest\n",
    "diagonal entries of $\\mathbf{D}$ in its singular value decomposition. \n",
    "\n",
    "It gives us an indication of how close the matrix is to being singular\n",
    "(non-invertible). A matrix may be formally invertible but numerically\n",
    "(for a specific precision) it cannot be computed reliably. *A very large\n",
    "condition number means it is close to being singular.*\n",
    "\n",
    "One can compute the condition number of a matrix using the NumPy function\n",
    "`numpy.linalg.cond`, though you can also compute it directly if you have D\n",
    "computed directly.\n",
    "\n",
    "**Consider the two matrices we examined in lab 3.**"
   ]
  },
  {
   "cell_type": "code",
   "execution_count": null,
   "id": "637d5dbe",
   "metadata": {},
   "outputs": [],
   "source": [
    "A1 = np.array([[400.0, -201.0],[-800.0,401.0]])"
   ]
  },
  {
   "cell_type": "code",
   "execution_count": null,
   "id": "350031e4",
   "metadata": {},
   "outputs": [],
   "source": [
    "A2 = np.array([[401.0, -201.0],[-800.0,401.0]])"
   ]
  },
  {
   "cell_type": "markdown",
   "id": "b5398593",
   "metadata": {},
   "source": [
    "Compute the condition numbers of A1 and A2 with"
   ]
  },
  {
   "cell_type": "code",
   "execution_count": null,
   "id": "d296905e",
   "metadata": {},
   "outputs": [],
   "source": [
    "print(np.linalg.cond(A1))\n",
    "print(np.linalg.cond(A2))"
   ]
  },
  {
   "cell_type": "markdown",
   "id": "44a0e159",
   "metadata": {},
   "source": [
    "- **How do they compare?**\n",
    "\n",
    "One can directly compute the condition number. If `Ux,Dx,Vtx = np.linalg.svd(X)` for a matrix $\\mathbf{X}$, \n",
    "then the condition number is the ratio of the largest value of `Dx` to its smallest value (i.e. the ratio of the first and last entries of `Dx`)."
   ]
  },
  {
   "cell_type": "markdown",
   "id": "57b2a312",
   "metadata": {},
   "source": [
    "## CHECKPOINT 6\n",
    "\n",
    "**Write a function `cmpCondNums` which accepts a NumPy matrix $\\mathbf{A}$.**\n",
    "\n",
    "- **It should compute the condition number using both `np.linalg.cond` (`condLinalg`) and using the above ratio method (`condRatio`).**\n",
    "- **Then, it should return a 3 element tuple with the first entry being `condLinalg`, the second entry being `condRatio` and the third being absolute difference between them.**\n",
    "\n",
    "**Define the matrix `testArray` defined as**\n",
    "$$\\text{testArray} = \\begin{pmatrix} 1.0 & 2.0 & 3.0 \\\\ 3.0 & -4.0 & 5.0 \\\\ 1.0 & -8.0 & -1.0 \\end{pmatrix}$$\n",
    "**and check cmpCondNums with `testArray`.**\n",
    "\n",
    "**NOTE:** it is not necessary to pass your definition of and test with `testArray` to the moodle quiz. "
   ]
  },
  {
   "cell_type": "code",
   "execution_count": null,
   "id": "ba1b17ad",
   "metadata": {},
   "outputs": [],
   "source": [
    "# Your code here...\n",
    "\n"
   ]
  },
  {
   "cell_type": "markdown",
   "id": "0cc6c41f",
   "metadata": {},
   "source": [
    "# Inverting with SVD\n",
    "\n",
    "If a matrix $\\mathbf{A}$ is invertible then we can write the inverse\n",
    "using SVD. So writing $\\mathbf{A}$ as\n",
    "$$\\mathbf{A} \\;\\; = \\;\\; \\mathbf{U} \\, \\mathbf{D} \\, \\mathbf{V}^{\\intercal} \\;\\;,$$\n",
    "then\n",
    "$$\\mathbf{A}^{-1} \\;\\; = \\;\\; \\mathbf{V} \\, \\mathbf{D}^{-1} \\, \\mathbf{U}^{\\intercal} \\;\\; .$$\n",
    "where $\\mathbf{D}^{-1}$ is a diagonal matrix where the diagonal entries\n",
    "are the inverse of the diagonal entries of $\\mathbf{D}$."
   ]
  },
  {
   "cell_type": "markdown",
   "id": "8745008f",
   "metadata": {},
   "source": [
    "## CHECKPOINT 7\n",
    "\n",
    "**Write a function `compInverse` that computes and returns the inverse of a matrix using the method shown above. You may assume that the matrix is square and all the singular values are non-zero.**\n",
    "\n",
    "**Note:** you will find (18) in Topic 4 of the notes useful here.\n",
    "\n",
    "**Compare your calculated value of the inverse of `A1` (defined above) using `compInverse` with `np.linalg.inv`.**\n",
    "\n",
    "**Note:** You only have to pass to the moodle question your definition of `compInverse`."
   ]
  },
  {
   "cell_type": "code",
   "execution_count": null,
   "id": "09527338",
   "metadata": {},
   "outputs": [],
   "source": [
    "# Your code here...\n",
    "\n",
    "\n"
   ]
  },
  {
   "cell_type": "markdown",
   "id": "c55c2bfa",
   "metadata": {},
   "source": [
    "# Least squares\n",
    "\n",
    "There are many cases where you will need to get a ‘best fit’ of the data\n",
    "that you have. \n",
    "\n",
    "Consider the scatter plot (figure 1) we considered in Topic 2\n",
    "\n",
    "<figure>\n",
    "<img src=\"Topic2MedCorrExample.png\" alt=\"image\" style=\"height:9cm\" /><figcaption>Figure 1 - scatter plot of data with medium-sized positive correlation</figcaption>\n",
    "</figure>\n",
    "\n",
    "Clearly, there is some relationship between the y-values and the\n",
    "x-values. Least squares attempts to find a line (of the form\n",
    "$y= mx + c$) that best represents this data. We will discuss this in the\n",
    "lectures but Python has a function which can carry this out\n",
    "(`numpy.linalg.lstsq`). \n",
    "\n",
    "From school you will probably know how to find\n",
    "this equation if you are given two points, but not necessarily if you are given\n",
    "an arbitrary number of points.\n",
    "\n",
    "As discussed in the documentation for `numpy.linalg.lstsq`, in two dimensions we can \n",
    "think of this problem as solving a set of *linear equations*.\n",
    "\n",
    "If $\\underline{x}$ is a vector of all the observed x-values and\n",
    "$\\underline{y}$ the corresponding vector of y-values, then we are trying\n",
    "to solve the following matrix equation\n",
    "$$\\underline{y} \\;\\; = \\;\\; \\mathbf{A} \\, \\underline{p} \\;\\;,$$\n",
    "\n",
    "where \n",
    "\n",
    "$$\\mathbf{A} = \n",
    " \\begin{pmatrix}\n",
    "\\underline{x} & \n",
    "\\begin{matrix}\n",
    "1 \\\\\n",
    "\\vdots \\\\\n",
    "1\n",
    "\\end{matrix}\n",
    "\\end{pmatrix}$$ \n",
    "\n",
    "and \n",
    "\n",
    "$$\\underline{p} = \n",
    " \\begin{pmatrix}\n",
    "m \\\\\n",
    "c\n",
    "\\end{pmatrix}$$\n",
    "\n",
    "\n",
    "**Hint:** Think about this when you have just two points."
   ]
  },
  {
   "cell_type": "markdown",
   "id": "10dc8d2b",
   "metadata": {},
   "source": [
    "If you have more than two points then there are *more equations than\n",
    "unknowns* and you can’t solve this. Remember, for the above scatter plot, there is no way to draw a straight line that goes through every point!\n",
    "\n",
    "**But** - least squares can give the best fit. We can test this with the\n",
    "following Python code."
   ]
  },
  {
   "cell_type": "code",
   "execution_count": null,
   "id": "8df33276",
   "metadata": {},
   "outputs": [],
   "source": [
    "try:\n",
    "    import matplotlib.pyplot as plt\n",
    "# If you don't have the matplotlib library installed, this will install it for you.\n",
    "except ImportError:\n",
    "    !python -m pip install matplotlib\n",
    "    import matplotlib.pyplot as plt"
   ]
  },
  {
   "cell_type": "code",
   "execution_count": null,
   "id": "fc087e6b",
   "metadata": {},
   "outputs": [],
   "source": [
    "xData = np.array([0, 1, 2, 3])"
   ]
  },
  {
   "cell_type": "code",
   "execution_count": null,
   "id": "c6566fd7",
   "metadata": {},
   "outputs": [],
   "source": [
    "yData = np.array([-1, 0.2, 0.9, 2.1])"
   ]
  },
  {
   "cell_type": "code",
   "execution_count": null,
   "id": "e4d03a9a",
   "metadata": {},
   "outputs": [],
   "source": [
    "A = np.vstack([xData, np.ones(len(xData))]).T"
   ]
  },
  {
   "cell_type": "code",
   "execution_count": null,
   "id": "e2d51c07",
   "metadata": {},
   "outputs": [],
   "source": [
    "m, c = np.linalg.lstsq(A, yData, rcond=None)[0]"
   ]
  },
  {
   "cell_type": "code",
   "execution_count": null,
   "id": "e9037712",
   "metadata": {},
   "outputs": [],
   "source": [
    "print(m, c)"
   ]
  },
  {
   "cell_type": "markdown",
   "id": "9790d4cf",
   "metadata": {},
   "source": [
    "We can now visualise how good the fit is using `matplotlib`."
   ]
  },
  {
   "cell_type": "code",
   "execution_count": null,
   "id": "6fbf2dc7",
   "metadata": {},
   "outputs": [],
   "source": [
    "plt.plot(x, y, 'o', label='Original data', markersize=10)\n",
    "plt.plot(x, m*x + c, 'r', label='Fitted line')\n",
    "plt.legend()\n",
    "plt.show()"
   ]
  },
  {
   "cell_type": "markdown",
   "id": "39c14cd3",
   "metadata": {},
   "source": [
    "# SVD and Least Squares\n",
    "\n",
    "So why is the above relevant to what we're doing here? Well, it turns out that least squares can be done with SVD.\n",
    "\n",
    "In particular, using SVD one can compute something called the\n",
    "*pseudo*-inverse of a matrix (for a matrix $\\mathbf{A}$ we label its\n",
    "pseudo-inverse $\\mathbf{A}^+$). You can compute the pseudo-inverse of\n",
    "**any** matrix.\n",
    "\n",
    "Hence we can come up with a best estimate of $\\underline{p}$ by\n",
    "computing\n",
    "\n",
    "$$\\underline{p} \\;\\; = \\;\\; \\mathbf{A}^+ \\, \\underline{y} \\;\\;.$$\n",
    "\n",
    "We can implement this in Python as we can compute the pseudo-inverse\n",
    "using `numpy.linalg.pinv`."
   ]
  },
  {
   "cell_type": "markdown",
   "id": "e84331eb",
   "metadata": {},
   "source": [
    "## CHECKPOINT 8\n",
    "\n",
    "**Write a function `doSVDFit` that accepts two NumPy vectors `x` and `y` that are the same length (you can assume this).**\n",
    "\n",
    "- **Use `numpy.linalg.pinv` to compute the best fit parameters `m` and `c`.**\n",
    "- **Then, return these as a tuple `(m,c)`, NOT a NumPy array.** \n",
    "\n",
    "**Use this function to determine the best fit parameters using `xData` and `yData` defined above in the least squares example and compare the values of (m,c).**\n",
    "\n",
    "**What do you observe?**\n",
    "\n",
    "**Note:** You only have to pass `doSVDFit` to the relevant moodle quiz."
   ]
  },
  {
   "cell_type": "code",
   "execution_count": null,
   "id": "95bdb0fb",
   "metadata": {},
   "outputs": [],
   "source": [
    "# Your code here...\n"
   ]
  }
 ],
 "metadata": {
  "author": [
   "Hugh Shanahan"
  ],
  "kernelspec": {
   "display_name": "Python 3 (ipykernel)",
   "language": "python",
   "name": "python3"
  },
  "language_info": {
   "codemirror_mode": {
    "name": "ipython",
    "version": 3
   },
   "file_extension": ".py",
   "mimetype": "text/x-python",
   "name": "python",
   "nbconvert_exporter": "python",
   "pygments_lexer": "ipython3",
   "version": "3.12.7"
  },
  "title": "CS2900 :- Topic 4 Lab"
 },
 "nbformat": 4,
 "nbformat_minor": 5
}

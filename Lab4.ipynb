{
 "cells": [
  {
   "cell_type": "markdown",
   "metadata": {},
   "source": [
    "<div id=\"header\">\n",
    "<h1 class=\"title\">CS2900 :- Topic 4 Lab</h1>\n",
    "<h2 class=\"author\">Hugh Shanahan and Tom Kuipers</h2>\n",
    "</div>"
   ]
  },
  {
   "cell_type": "markdown",
   "metadata": {},
   "source": [
    "The learning outcomes of this session are:\n",
    "\n",
    "-   To have an introductory understanding of Singular Value\n",
    "    Decomposition (SVD).\n",
    "\n",
    "-   To understand the use of condition numbers.\n",
    "\n",
    "-   To use SVD to perform least squares.\n",
    "\n",
    "# Set up\n",
    "\n",
    "1. Initialise the the test suite so that you can check and grade your solutions.\n",
    "\n",
    "2. Be sure to import NumPy just as you did in the previous lab sheets."
   ]
  },
  {
   "cell_type": "code",
   "execution_count": null,
   "metadata": {},
   "outputs": [],
   "source": [
    "from client.api.notebook import Notebook\n",
    "ok = Notebook('config/lab4.ok')"
   ]
  },
  {
   "cell_type": "code",
   "execution_count": null,
   "metadata": {},
   "outputs": [],
   "source": [
    "import numpy as np"
   ]
  },
  {
   "cell_type": "markdown",
   "metadata": {},
   "source": [
    "# Singular Value Decomposition (SVD)\n",
    "\n",
    "**NOTE:** Refer to the lecture notes (topic 4) on SVD. \n",
    "\n",
    "Specifically any matrix $\\mathbf{A}$ can be written as $\\mathbf{A} = \\mathbf{U} \\; \\mathbf{D} \\; \\mathbf{V}^{T}$, where\n",
    "\n",
    "$$\\begin{aligned}\n",
    "\\mathbf{A} \\;\\; &\\in& \\;\\; \\mathbb{R} \\;\\; ,\\\\\n",
    "\\mathbf{U} \\;\\; &-& \\;\\; M \\times M \\;\\; , \\\\\n",
    "\\mathbf{V} \\;\\; &-& \\;\\; N \\times N \\;\\; , \\\\\n",
    "\\mathbf{U}, \\; \\mathbf{V} \\;\\; &-& \\;\\; \\text{orthogonal} \\;\\; , \\\\\n",
    "D_{ij} \\;\\; &=& \\;\\; \n",
    "\\left\\{ \n",
    "\\begin{matrix}\n",
    "d_i \\, \\ge \\, 0 \\;\\; \\text{iff} \\;\\; i=j \\\\\n",
    "0 \\;\\; \\text{otherwise}  \n",
    "\\end{matrix}\n",
    "\\right.  \\;\\; .\\end{aligned}$$ \n",
    "\n",
    "SVD can be performed in NumPy using `numpy.linalg.svd`\n",
    "\n",
    "**Observe the following code below**"
   ]
  },
  {
   "cell_type": "code",
   "execution_count": null,
   "metadata": {},
   "outputs": [],
   "source": [
    "A = np.array([ [ 400.0, -201.0] , [-800.0,401.0] ])"
   ]
  },
  {
   "cell_type": "code",
   "execution_count": null,
   "metadata": {},
   "outputs": [],
   "source": [
    "U,D,Vt = np.linalg.svd(A)"
   ]
  },
  {
   "cell_type": "code",
   "execution_count": null,
   "metadata": {},
   "outputs": [],
   "source": [
    "print(f\"U = {U}\")"
   ]
  },
  {
   "cell_type": "code",
   "execution_count": null,
   "metadata": {},
   "outputs": [],
   "source": [
    "print(f\"D = {D}\")"
   ]
  },
  {
   "cell_type": "code",
   "execution_count": null,
   "metadata": {},
   "outputs": [],
   "source": [
    "print(f\"Vt = {Vt}\")"
   ]
  },
  {
   "cell_type": "markdown",
   "metadata": {},
   "source": [
    "## CHECKPOINT 1\n",
    "\n",
    "**What are the dimensions of `U`, `D` and `Vt`?**\n",
    "\n",
    "- **Define a function `checkDims` that takes a single NumPy matrix, $\\mathbf{A}$ which returns a tuple with dimensions of the SVD matrices for $\\mathbf{A}$.**\n",
    "    - **Giving $\\mathbf{A}$ defined above, the function should return `(# rows of U, # columns of U, # rows of D, # columns of D, # rows of Vt, # columns of Vt)`**\n",
    "\n",
    "- **Define a list `A_svd` which contains the following matrices below:**\n",
    "\n",
    "$$\\text{A\\_svd[0]} = \n",
    "\\begin{pmatrix}\n",
    "1.0 & 2.0 & 3.0 \\\\\n",
    "-1.0 & 3.0 & 2.0\n",
    "\\end{pmatrix}$$\n",
    "\n",
    "$$\\text{A\\_svd[1]} =\n",
    "\\begin{pmatrix}\n",
    "1.0 & 2.0 & 3.0 & 4.0 \\\\\n",
    "-1.0 & 3.0 & 2.0 & 3.0 \n",
    "\\end{pmatrix}$$\n",
    "\n",
    "$$\\text{A\\_svd[2]} =\n",
    "\\begin{pmatrix}\n",
    "1.0 & 2.0 \\\\\n",
    "-1.0 & 3.0 \\\\\n",
    "3.0 & 1.0 \n",
    "\\end{pmatrix}$$\n",
    "\n",
    "$$\\text{A\\_svd[3]} =\n",
    "\\begin{pmatrix}\n",
    "1.0 & 2.0 \\\\\n",
    "-1.0 & 3.0 \\\\\n",
    "3.0 & 1.0 \\\\\n",
    "4.0 & 2.0 \n",
    "\\end{pmatrix}$$"
   ]
  },
  {
   "cell_type": "markdown",
   "metadata": {},
   "source": [
    "- **Run your checkDims on each of them and observe the output for each one.** \n",
    "\n",
    "**NOTE 1:** `#` means *'number of'*\n",
    "\n",
    "**NOTE 2:** The calculation of the number of rows and columns of `D` is not trivial!"
   ]
  },
  {
   "cell_type": "code",
   "execution_count": null,
   "metadata": {},
   "outputs": [],
   "source": [
    "# Your code here...\n",
    "\n"
   ]
  },
  {
   "cell_type": "code",
   "execution_count": null,
   "metadata": {},
   "outputs": [],
   "source": [
    "ok.grade('cp1')"
   ]
  },
  {
   "cell_type": "markdown",
   "metadata": {},
   "source": [
    "# Condition numbers\n",
    "\n",
    "The *condition number* of a matrix is the ratio of the largest to smallest\n",
    "diagonal entries of $\\mathbf{D}$ in its singular value decomposition. \n",
    "\n",
    "It gives us an indication of how close the matrix is to being singular\n",
    "(non-invertible). A matrix may be formally invertible but numerically\n",
    "(for a specific precision) it cannot be computed reliably. *A very large\n",
    "condition number means it is close to being singular.*\n",
    "\n",
    "One can compute the condition number of a matrix using the NumPy function\n",
    "`numpy.linalg.cond`, though you can also compute it directly if you have D\n",
    "computed directly.\n",
    "\n",
    "**Consider the two matrices we examined in lab 3.**"
   ]
  },
  {
   "cell_type": "code",
   "execution_count": null,
   "metadata": {},
   "outputs": [],
   "source": [
    "A1 = np.array([[400.0, -201.0],[-800.0,401.0]])"
   ]
  },
  {
   "cell_type": "code",
   "execution_count": null,
   "metadata": {},
   "outputs": [],
   "source": [
    "A2 = np.array([[401.0, -201.0],[-800.0,401.0]])"
   ]
  },
  {
   "cell_type": "markdown",
   "metadata": {},
   "source": [
    "Compute the condition numbers of A1 and A2 with"
   ]
  },
  {
   "cell_type": "code",
   "execution_count": null,
   "metadata": {},
   "outputs": [],
   "source": [
    "print(np.linalg.cond(A1))\n",
    "print(np.linalg.cond(A2))"
   ]
  },
  {
   "cell_type": "markdown",
   "metadata": {},
   "source": [
    "- **How do they compare?**\n",
    "\n",
    "One can directly compute the condition number. If `Ux,Dx,Vtx = np.linalg.svd(X)` for a matrix $\\mathbf{X}$, \n",
    "then the condition number is the ratio of the largest value of `Dx` to its smallest value (i.e. the ratio of the first and last entries of `Dx`)."
   ]
  },
  {
   "cell_type": "markdown",
   "metadata": {},
   "source": [
    "## CHECKPOINT 2\n",
    "\n",
    "**Write a function `cmpCondNums` which accepts a NumPy matrix $\\mathbf{A}$.**\n",
    "\n",
    "- **It should compute the condition number using both `np.linalg.cond` and using the above ratio method.**\n",
    "- **Then, it should return a 3 element tuple with both calculations and the absolute difference between them.**\n",
    "\n",
    "**Check this with the following matrix:**\n",
    "$$\\begin{pmatrix} 1.0 & 2.0 & 3.0 \\\\ 3.0 & -4.0 & 5.0 \\\\ 1.0 & -8.0 & -1.0 \\end{pmatrix}$$"
   ]
  },
  {
   "cell_type": "code",
   "execution_count": null,
   "metadata": {},
   "outputs": [],
   "source": [
    "# Your code here...\n",
    "\n"
   ]
  },
  {
   "cell_type": "code",
   "execution_count": null,
   "metadata": {},
   "outputs": [],
   "source": [
    "ok.grade('cp2')"
   ]
  },
  {
   "cell_type": "markdown",
   "metadata": {},
   "source": [
    "# Inverting with SVD\n",
    "\n",
    "If a matrix $\\mathbf{A}$ is invertible then we can write the inverse\n",
    "using SVD. So writing $\\mathbf{A}$ as\n",
    "$$\\mathbf{A} \\;\\; = \\;\\; \\mathbf{U} \\, \\mathbf{D} \\, \\mathbf{V}^{\\intercal} \\;\\;,$$\n",
    "then\n",
    "$$\\mathbf{A}^{-1} \\;\\; = \\;\\; \\mathbf{V} \\, \\mathbf{D}^{-1} \\, \\mathbf{U}^{\\intercal} \\;\\; .$$\n",
    "where $\\mathbf{D}^{-1}$ is a diagonal matrix where the diagonal entries\n",
    "are the inverse of the diagonal entries of $\\mathbf{D}$."
   ]
  },
  {
   "cell_type": "markdown",
   "metadata": {},
   "source": [
    "## CHECKPOINT 3\n",
    "\n",
    "- **Write a function `cmpInverses` that computes and returns the inverse of a matrix using the method shown above.**\n",
    "- **Then, define a variable `sqDiff` as the _squared difference_ between $\\mathbf{A}$ and $\\mathbf{A}^{-1}$ using the `sqDiffMatrices` function you wrote in lab sheet 2.**\n",
    "    - **You can copy this directly across. Just make sure you keep the same function name otherwise the tester will complain :)**\n",
    "\n",
    "**NOTE:** You may make use of `np.linalg.inv` to find the inverse of $\\mathbf{D}$ but you should **not** use it to compute the inverse of $\\mathbf{A}$ *directly*.\n",
    "\n",
    "**HINT:** `np.matmul` will come in handy here!\n",
    "\n",
    "**Check your function with the following matrix**\n",
    "$$\\begin{pmatrix}\n",
    "400.0& -201.0 \\\\\n",
    "-800.0&401.0 \n",
    "\\end{pmatrix}$$"
   ]
  },
  {
   "cell_type": "code",
   "execution_count": null,
   "metadata": {},
   "outputs": [],
   "source": [
    "# Your code here...\n",
    "\n"
   ]
  },
  {
   "cell_type": "code",
   "execution_count": null,
   "metadata": {},
   "outputs": [],
   "source": [
    "ok.grade('cp3')"
   ]
  },
  {
   "cell_type": "markdown",
   "metadata": {},
   "source": [
    "# Least squares\n",
    "\n",
    "There are many cases where you will need to get a ‘best fit’ of the data\n",
    "that you have. \n",
    "\n",
    "Consider the scatter plot (figure 1) we considered in Topic 2\n",
    "\n",
    "<figure>\n",
    "<img src=\"Topic2MedCorrExample.png\" alt=\"image\" style=\"height:9cm\" /><figcaption>Figure 1 - scatter plot of data with medium-sized positive correlation</figcaption>\n",
    "</figure>\n",
    "\n",
    "Clearly, there is some relationship between the y-values and the\n",
    "x-values. Least squares attempts to find a line (of the form\n",
    "$y= mx + c$) that best represents this data. We will discuss this in the\n",
    "lectures but Python has a function which can carry this out\n",
    "(`numpy.linalg.lstsq`). \n",
    "\n",
    "From school you will probably know how to find\n",
    "this equation if you are given two points, but not necessarily if you are given\n",
    "an arbitrary number of points.\n",
    "\n",
    "As discussed in the documentation for `numpy.linalg.lstsq`, in two dimensions we can \n",
    "think of this problem as solving a set of *linear equations*.\n",
    "\n",
    "If $\\underline{x}$ is a vector of all the observed x-values and\n",
    "$\\underline{y}$ the corresponding vector of y-values, then we are trying\n",
    "to solve the following matrix equation\n",
    "$$\\underline{y} \\;\\; = \\;\\; \\mathbf{A} \\, \\underline{p} \\;\\;,$$\n",
    "\n",
    "where \n",
    "\n",
    "$$\\mathbf{A} = \n",
    " \\begin{pmatrix}\n",
    "\\underline{x} & \n",
    "\\begin{matrix}\n",
    "1 \\\\\n",
    "\\vdots \\\\\n",
    "1\n",
    "\\end{matrix}\n",
    "\\end{pmatrix}$$ \n",
    "\n",
    "and \n",
    "\n",
    "$$\\underline{p} = \n",
    " \\begin{pmatrix}\n",
    "m \\\\\n",
    "c\n",
    "\\end{pmatrix}$$\n",
    "\n",
    "\n",
    "**Hint:** Think about this when you have just two points."
   ]
  },
  {
   "cell_type": "markdown",
   "metadata": {},
   "source": [
    "If you have more than two points then there are *more equations than\n",
    "unknowns* and you can’t solve this. Remember, for the above scatter plot, there is no way to draw a straight line that goes through every point!\n",
    "\n",
    "**But** - least squares can give the best fit. We can test this with the\n",
    "following Python code."
   ]
  },
  {
   "cell_type": "code",
   "execution_count": null,
   "metadata": {},
   "outputs": [],
   "source": [
    "try:\n",
    "    import matplotlib.pyplot as plt\n",
    "# If you don't have the matplotlib library installed, this will install it for you.\n",
    "except ImportError:\n",
    "    !python -m pip install matplotlib\n",
    "    import matplotlib.pyplot as plt"
   ]
  },
  {
   "cell_type": "code",
   "execution_count": null,
   "metadata": {},
   "outputs": [],
   "source": [
    "x = np.array([0, 1, 2, 3])"
   ]
  },
  {
   "cell_type": "code",
   "execution_count": null,
   "metadata": {},
   "outputs": [],
   "source": [
    "y = np.array([-1, 0.2, 0.9, 2.1])"
   ]
  },
  {
   "cell_type": "code",
   "execution_count": null,
   "metadata": {},
   "outputs": [],
   "source": [
    "A = np.vstack([x, np.ones(len(x))]).T"
   ]
  },
  {
   "cell_type": "code",
   "execution_count": null,
   "metadata": {},
   "outputs": [],
   "source": [
    "m, c = np.linalg.lstsq(A, y, rcond=None)[0]"
   ]
  },
  {
   "cell_type": "code",
   "execution_count": null,
   "metadata": {},
   "outputs": [],
   "source": [
    "print(m, c)"
   ]
  },
  {
   "cell_type": "markdown",
   "metadata": {},
   "source": [
    "We can now visualise how good the fit is using `matplotlib`."
   ]
  },
  {
   "cell_type": "code",
   "execution_count": null,
   "metadata": {},
   "outputs": [],
   "source": [
    "plt.plot(x, y, 'o', label='Original data', markersize=10)\n",
    "plt.plot(x, m*x + c, 'r', label='Fitted line')\n",
    "plt.legend()\n",
    "plt.show()"
   ]
  },
  {
   "cell_type": "markdown",
   "metadata": {},
   "source": [
    "# SVD and Least Squares\n",
    "\n",
    "So why is the above relevant to what we're doing here? Well, it turns out that least squares can be done with SVD.\n",
    "\n",
    "In particular, using SVD one can compute something called the\n",
    "*pseudo*-inverse of a matrix (for a matrix $\\mathbf{A}$ we label its\n",
    "pseudo-inverse $\\mathbf{A}^+$). You can compute the pseudo-inverse of\n",
    "**any** matrix.\n",
    "\n",
    "Hence we can come up with a best estimate of $\\underline{p}$ by\n",
    "computing\n",
    "\n",
    "$$\\underline{p} \\;\\; = \\;\\; \\mathbf{A}^+ \\, \\underline{y} \\;\\;.$$\n",
    "\n",
    "We can implement this in Python as we can compute the pseudo-inverse\n",
    "using `numpy.linalg.pinv`."
   ]
  },
  {
   "cell_type": "markdown",
   "metadata": {},
   "source": [
    "## CHECKPOINT 4\n",
    "\n",
    "**Write a function `doSVDFit` that accepts two NumPy vectors `x` and `y` that are the same length.**\n",
    "\n",
    "- **Use `numpy.linalg.pinv` to compute the best fit parameters `m` and `c`.**\n",
    "- **Then, return these as a tuple `(m,c)`, NOT a NumPy array.** \n",
    "\n",
    "**Use this function to determine the best fit parameters for the data used above in the least squares example and compare them.**\n",
    "\n",
    "**What do you observe?**"
   ]
  },
  {
   "cell_type": "code",
   "execution_count": null,
   "metadata": {},
   "outputs": [],
   "source": [
    "# Your code here...\n",
    "\n"
   ]
  },
  {
   "cell_type": "code",
   "execution_count": null,
   "metadata": {},
   "outputs": [],
   "source": [
    "ok.grade('cp4')"
   ]
  },
  {
   "cell_type": "markdown",
   "metadata": {},
   "source": [
    "# Grading your Checkpoints\n",
    "\n",
    "Use the code cell below to grade your checkpoints and run all the tests. For this lab, there are **four** graded checkpoints. You should aim for at least **75%** on each lab sheet.\n",
    "\n",
    "Extension checkpoints are not graded but you are encouraged to do them if you have time and have finished the lab sheet! You will be expected to know how to write code using Numpy in the exam, so they are good practice."
   ]
  },
  {
   "cell_type": "code",
   "execution_count": null,
   "metadata": {},
   "outputs": [],
   "source": [
    "ok.score()"
   ]
  }
 ],
 "metadata": {
  "author": [
   "Hugh Shanahan"
  ],
  "kernelspec": {
   "display_name": "Python 3",
   "language": "python",
   "name": "python3"
  },
  "language_info": {
   "codemirror_mode": {
    "name": "ipython",
    "version": 3
   },
   "file_extension": ".py",
   "mimetype": "text/x-python",
   "name": "python",
   "nbconvert_exporter": "python",
   "pygments_lexer": "ipython3",
   "version": "3.10.2"
  },
  "title": "CS2900 :- Topic 4 Lab"
 },
 "nbformat": 4,
 "nbformat_minor": 5
}
